{
 "cells": [
  {
   "cell_type": "code",
   "execution_count": 1,
   "metadata": {},
   "outputs": [
    {
     "name": "stdout",
     "output_type": "stream",
     "text": [
      "Enter test case\n"
     ]
    }
   ],
   "source": [
    "print('Enter test case')"
   ]
  },
  {
   "cell_type": "code",
   "execution_count": 2,
   "metadata": {},
   "outputs": [
    {
     "name": "stdout",
     "output_type": "stream",
     "text": [
      "4\n"
     ]
    }
   ],
   "source": [
    "totalCase = int(input())"
   ]
  },
  {
   "cell_type": "code",
   "execution_count": null,
   "metadata": {},
   "outputs": [],
   "source": [
    "if totalCase < 1 or totalCase > 10:\n",
    "    print('Number of test case must between 1 to 10 ')\n",
    "    \n",
    "else:\n",
    "    for i in range(1,totalCase+1):\n",
    "        print('Total person')\n",
    "        totalPerson  = int(input())\n",
    "        if totalPerson > 1 or totalPerson <= 100000:\n",
    "            print('Enter each cost')\n",
    "            cost = input()\n",
    "        else:\n",
    "            print( 'wrong input')\n",
    "            \n",
    "        amount = cost.split(' ')\n",
    "        \n",
    "        for a in range(1,len(amount)):\n",
    "            if int(amount[a]) > 1000000 or int(amount[a]) < 1:\n",
    "                print('wrong input')\n",
    "                \n",
    "            \n",
    "        temple = []\n",
    "        village = amount\n",
    "        total = 0\n",
    "        \n",
    "        for a in range(1,len(amount)+1):\n",
    "            if len(temple) != len(amount):\n",
    "                one = village.pop(0)\n",
    "                two = village.pop(0)\n",
    "                \n",
    "                temple.append(one)\n",
    "                temple.append(two)\n",
    "                \n",
    "                total = int(total) + int(max(one,two))\n",
    "                \n",
    "                temp = temple.pop(0)\n",
    "                \n",
    "                village.append(temp)\n",
    "        \n",
    "        \n",
    "        one = village.pop(0)\n",
    "        two = village.pop(0)\n",
    "\n",
    "        total = int(total) + int(max(one,two))\n",
    "        \n",
    "        print('total amount',total)\n",
    "                \n",
    "                \n",
    "        \n",
    "            "
   ]
  },
  {
   "cell_type": "code",
   "execution_count": null,
   "metadata": {},
   "outputs": [],
   "source": []
  },
  {
   "cell_type": "code",
   "execution_count": null,
   "metadata": {},
   "outputs": [],
   "source": []
  },
  {
   "cell_type": "code",
   "execution_count": null,
   "metadata": {},
   "outputs": [],
   "source": []
  },
  {
   "cell_type": "code",
   "execution_count": null,
   "metadata": {},
   "outputs": [],
   "source": []
  }
 ],
 "metadata": {
  "kernelspec": {
   "display_name": "Python 3",
   "language": "python",
   "name": "python3"
  },
  "language_info": {
   "codemirror_mode": {
    "name": "ipython",
    "version": 3
   },
   "file_extension": ".py",
   "mimetype": "text/x-python",
   "name": "python",
   "nbconvert_exporter": "python",
   "pygments_lexer": "ipython3",
   "version": "3.7.5"
  }
 },
 "nbformat": 4,
 "nbformat_minor": 4
}
